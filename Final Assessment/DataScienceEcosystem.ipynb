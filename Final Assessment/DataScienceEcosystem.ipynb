{
 "cells": [
  {
   "cell_type": "markdown",
   "id": "cb596909-8d0c-46ba-b416-5673700a6a01",
   "metadata": {},
   "source": [
    "# Data Science Tools and Ecosystem"
   ]
  },
  {
   "cell_type": "markdown",
   "id": "1d26c5d6-e4f4-4037-80eb-7af3ba5b4975",
   "metadata": {},
   "source": [
    "## In this notebook, Data Science Tools and Ecosystem are summarized."
   ]
  },
  {
   "cell_type": "markdown",
   "id": "785244c6-db18-40d1-bfc3-e2b359c8066f",
   "metadata": {
    "tags": []
   },
   "source": [
    "Some of the popular languages that Data Scientists use are:\n",
    "1. Python\n",
    "2. R\n",
    "3. Julia\n"
   ]
  },
  {
   "cell_type": "markdown",
   "id": "204593e4-1015-43ce-8e2a-2ba41091f8ba",
   "metadata": {},
   "source": [
    "Some of the commonly used libraries used by Data Scientists include:\n",
    "1. Pandas\n",
    "2. NumPy\n",
    "3. Matplotlib\n"
   ]
  },
  {
   "cell_type": "markdown",
   "id": "ac1ec93f-0f83-448e-9326-739b3f64c318",
   "metadata": {},
   "source": [
    "| Data Science Tools |\n",
    "|--------------------|\n",
    "| Jupyter Notebook   |\n",
    "| RStudio            |\n",
    "| Colab              |\n"
   ]
  },
  {
   "cell_type": "markdown",
   "id": "de013165-7198-4e17-9b39-6e88bf6d8204",
   "metadata": {},
   "source": [
    "### Below are a few examples of evaluating arithmetic expressions in Python.\n"
   ]
  },
  {
   "cell_type": "code",
   "execution_count": 2,
   "id": "9da13f63-5bc6-41d2-8a7f-13a0ff7e5fa2",
   "metadata": {
    "tags": []
   },
   "outputs": [
    {
     "data": {
      "text/plain": [
       "17"
      ]
     },
     "execution_count": 2,
     "metadata": {},
     "output_type": "execute_result"
    }
   ],
   "source": [
    "# This is a simple arithmetic expression to multiply then add integers.\n",
    "Result = (3 * 4) + 5\n",
    "Result\n"
   ]
  },
  {
   "cell_type": "code",
   "execution_count": 3,
   "id": "8e4ba0d4-a37f-49e5-9f45-2522efb4f069",
   "metadata": {
    "tags": []
   },
   "outputs": [
    {
     "data": {
      "text/plain": [
       "3.3333333333333335"
      ]
     },
     "execution_count": 3,
     "metadata": {},
     "output_type": "execute_result"
    }
   ],
   "source": [
    "#This will convert 200 minutes to hours by diving by 60\n",
    "Convert = 200 / 60 \n",
    "Convert"
   ]
  },
  {
   "cell_type": "markdown",
   "id": "41ad4637-2582-4d57-acd9-2e5858ec4de2",
   "metadata": {},
   "source": [
    "**Objectives:**\n",
    "* List popular languages for Data Science.\n",
    "* List Commonly used libraries\n",
    "* List Data science tools in a table\n",
    "* Do simple arithmetic in code\n",
    "\n"
   ]
  },
  {
   "cell_type": "markdown",
   "id": "7aaebf01-6d10-45e5-af33-acb5da3ef4f9",
   "metadata": {},
   "source": [
    "## Author\n",
    "Charlie Meek\n"
   ]
  }
 ],
 "metadata": {
  "kernelspec": {
   "display_name": "Python",
   "language": "python",
   "name": "conda-env-python-py"
  },
  "language_info": {
   "codemirror_mode": {
    "name": "ipython",
    "version": 3
   },
   "file_extension": ".py",
   "mimetype": "text/x-python",
   "name": "python",
   "nbconvert_exporter": "python",
   "pygments_lexer": "ipython3",
   "version": "3.7.12"
  }
 },
 "nbformat": 4,
 "nbformat_minor": 5
}
